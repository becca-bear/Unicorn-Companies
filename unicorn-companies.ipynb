{
 "cells": [
  {
   "cell_type": "code",
   "execution_count": 59,
   "metadata": {},
   "outputs": [],
   "source": [
    "import pandas as pd\n",
    "import numpy\n",
    "import matplotlib.pyplot as plt"
   ]
  },
  {
   "cell_type": "code",
   "execution_count": 60,
   "metadata": {},
   "outputs": [
    {
     "data": {
      "text/html": [
       "<div>\n",
       "<style scoped>\n",
       "    .dataframe tbody tr th:only-of-type {\n",
       "        vertical-align: middle;\n",
       "    }\n",
       "\n",
       "    .dataframe tbody tr th {\n",
       "        vertical-align: top;\n",
       "    }\n",
       "\n",
       "    .dataframe thead th {\n",
       "        text-align: right;\n",
       "    }\n",
       "</style>\n",
       "<table border=\"1\" class=\"dataframe\">\n",
       "  <thead>\n",
       "    <tr style=\"text-align: right;\">\n",
       "      <th></th>\n",
       "      <th>Company</th>\n",
       "      <th>Valuation</th>\n",
       "      <th>Date Joined</th>\n",
       "      <th>Industry</th>\n",
       "      <th>City</th>\n",
       "      <th>Country</th>\n",
       "      <th>Continent</th>\n",
       "      <th>Year Founded</th>\n",
       "      <th>Funding</th>\n",
       "      <th>Select Investors</th>\n",
       "    </tr>\n",
       "  </thead>\n",
       "  <tbody>\n",
       "    <tr>\n",
       "      <th>0</th>\n",
       "      <td>Bytedance</td>\n",
       "      <td>$180B</td>\n",
       "      <td>2017-04-07</td>\n",
       "      <td>Artificial intelligence</td>\n",
       "      <td>Beijing</td>\n",
       "      <td>China</td>\n",
       "      <td>Asia</td>\n",
       "      <td>2012</td>\n",
       "      <td>$8B</td>\n",
       "      <td>Sequoia Capital China, SIG Asia Investments, S...</td>\n",
       "    </tr>\n",
       "    <tr>\n",
       "      <th>1</th>\n",
       "      <td>SpaceX</td>\n",
       "      <td>$100B</td>\n",
       "      <td>2012-12-01</td>\n",
       "      <td>Other</td>\n",
       "      <td>Hawthorne</td>\n",
       "      <td>United States</td>\n",
       "      <td>North America</td>\n",
       "      <td>2002</td>\n",
       "      <td>$7B</td>\n",
       "      <td>Founders Fund, Draper Fisher Jurvetson, Rothen...</td>\n",
       "    </tr>\n",
       "    <tr>\n",
       "      <th>2</th>\n",
       "      <td>SHEIN</td>\n",
       "      <td>$100B</td>\n",
       "      <td>2018-07-03</td>\n",
       "      <td>E-commerce &amp; direct-to-consumer</td>\n",
       "      <td>Shenzhen</td>\n",
       "      <td>China</td>\n",
       "      <td>Asia</td>\n",
       "      <td>2008</td>\n",
       "      <td>$2B</td>\n",
       "      <td>Tiger Global Management, Sequoia Capital China...</td>\n",
       "    </tr>\n",
       "    <tr>\n",
       "      <th>3</th>\n",
       "      <td>Stripe</td>\n",
       "      <td>$95B</td>\n",
       "      <td>2014-01-23</td>\n",
       "      <td>Fintech</td>\n",
       "      <td>San Francisco</td>\n",
       "      <td>United States</td>\n",
       "      <td>North America</td>\n",
       "      <td>2010</td>\n",
       "      <td>$2B</td>\n",
       "      <td>Khosla Ventures, LowercaseCapital, capitalG</td>\n",
       "    </tr>\n",
       "    <tr>\n",
       "      <th>4</th>\n",
       "      <td>Klarna</td>\n",
       "      <td>$46B</td>\n",
       "      <td>2011-12-12</td>\n",
       "      <td>Fintech</td>\n",
       "      <td>Stockholm</td>\n",
       "      <td>Sweden</td>\n",
       "      <td>Europe</td>\n",
       "      <td>2005</td>\n",
       "      <td>$4B</td>\n",
       "      <td>Institutional Venture Partners, Sequoia Capita...</td>\n",
       "    </tr>\n",
       "  </tbody>\n",
       "</table>\n",
       "</div>"
      ],
      "text/plain": [
       "     Company Valuation Date Joined                         Industry  \\\n",
       "0  Bytedance     $180B  2017-04-07          Artificial intelligence   \n",
       "1     SpaceX     $100B  2012-12-01                            Other   \n",
       "2      SHEIN     $100B  2018-07-03  E-commerce & direct-to-consumer   \n",
       "3     Stripe      $95B  2014-01-23                          Fintech   \n",
       "4     Klarna      $46B  2011-12-12                          Fintech   \n",
       "\n",
       "            City        Country      Continent  Year Founded Funding  \\\n",
       "0        Beijing          China           Asia          2012     $8B   \n",
       "1      Hawthorne  United States  North America          2002     $7B   \n",
       "2       Shenzhen          China           Asia          2008     $2B   \n",
       "3  San Francisco  United States  North America          2010     $2B   \n",
       "4      Stockholm         Sweden         Europe          2005     $4B   \n",
       "\n",
       "                                    Select Investors  \n",
       "0  Sequoia Capital China, SIG Asia Investments, S...  \n",
       "1  Founders Fund, Draper Fisher Jurvetson, Rothen...  \n",
       "2  Tiger Global Management, Sequoia Capital China...  \n",
       "3        Khosla Ventures, LowercaseCapital, capitalG  \n",
       "4  Institutional Venture Partners, Sequoia Capita...  "
      ]
     },
     "execution_count": 60,
     "metadata": {},
     "output_type": "execute_result"
    }
   ],
   "source": [
    "# Read the CSV file\n",
    "df =  pd.read_csv(\"Unicorn_Companies.csv\")\n",
    "df.head()"
   ]
  },
  {
   "cell_type": "code",
   "execution_count": 61,
   "metadata": {},
   "outputs": [
    {
     "data": {
      "text/html": [
       "<div>\n",
       "<style scoped>\n",
       "    .dataframe tbody tr th:only-of-type {\n",
       "        vertical-align: middle;\n",
       "    }\n",
       "\n",
       "    .dataframe tbody tr th {\n",
       "        vertical-align: top;\n",
       "    }\n",
       "\n",
       "    .dataframe thead th {\n",
       "        text-align: right;\n",
       "    }\n",
       "</style>\n",
       "<table border=\"1\" class=\"dataframe\">\n",
       "  <thead>\n",
       "    <tr style=\"text-align: right;\">\n",
       "      <th></th>\n",
       "      <th>Year Founded</th>\n",
       "    </tr>\n",
       "  </thead>\n",
       "  <tbody>\n",
       "    <tr>\n",
       "      <th>count</th>\n",
       "      <td>1074.000000</td>\n",
       "    </tr>\n",
       "    <tr>\n",
       "      <th>mean</th>\n",
       "      <td>2012.895717</td>\n",
       "    </tr>\n",
       "    <tr>\n",
       "      <th>std</th>\n",
       "      <td>5.698573</td>\n",
       "    </tr>\n",
       "    <tr>\n",
       "      <th>min</th>\n",
       "      <td>1919.000000</td>\n",
       "    </tr>\n",
       "    <tr>\n",
       "      <th>25%</th>\n",
       "      <td>2011.000000</td>\n",
       "    </tr>\n",
       "    <tr>\n",
       "      <th>50%</th>\n",
       "      <td>2014.000000</td>\n",
       "    </tr>\n",
       "    <tr>\n",
       "      <th>75%</th>\n",
       "      <td>2016.000000</td>\n",
       "    </tr>\n",
       "    <tr>\n",
       "      <th>max</th>\n",
       "      <td>2021.000000</td>\n",
       "    </tr>\n",
       "  </tbody>\n",
       "</table>\n",
       "</div>"
      ],
      "text/plain": [
       "       Year Founded\n",
       "count   1074.000000\n",
       "mean    2012.895717\n",
       "std        5.698573\n",
       "min     1919.000000\n",
       "25%     2011.000000\n",
       "50%     2014.000000\n",
       "75%     2016.000000\n",
       "max     2021.000000"
      ]
     },
     "execution_count": 61,
     "metadata": {},
     "output_type": "execute_result"
    }
   ],
   "source": [
    "df.describe()"
   ]
  },
  {
   "cell_type": "code",
   "execution_count": 62,
   "metadata": {},
   "outputs": [
    {
     "data": {
      "text/plain": [
       "Company              0\n",
       "Valuation            0\n",
       "Date Joined          0\n",
       "Industry             0\n",
       "City                16\n",
       "Country              0\n",
       "Continent            0\n",
       "Year Founded         0\n",
       "Funding              0\n",
       "Select Investors     1\n",
       "dtype: int64"
      ]
     },
     "execution_count": 62,
     "metadata": {},
     "output_type": "execute_result"
    }
   ],
   "source": [
    "# Finding missing values and number of nulls\n",
    "\n",
    "df.isna().sum()"
   ]
  },
  {
   "cell_type": "code",
   "execution_count": 63,
   "metadata": {},
   "outputs": [],
   "source": [
    "# Dropping rows with missing values\n",
    "df.dropna(inplace = True)"
   ]
  },
  {
   "cell_type": "code",
   "execution_count": 64,
   "metadata": {},
   "outputs": [
    {
     "data": {
      "text/plain": [
       "$1B        59\n",
       "$2B        29\n",
       "$200M      12\n",
       "Unknown    12\n",
       "$4B         9\n",
       "           ..\n",
       "$536M       1\n",
       "$19M        1\n",
       "$946M       1\n",
       "$180M       1\n",
       "$620M       1\n",
       "Name: Funding, Length: 533, dtype: int64"
      ]
     },
     "execution_count": 64,
     "metadata": {},
     "output_type": "execute_result"
    }
   ],
   "source": [
    "# check non-numerical values in Funding column \n",
    "df[\"Funding\"].value_counts()"
   ]
  },
  {
   "cell_type": "code",
   "execution_count": 65,
   "metadata": {},
   "outputs": [
    {
     "data": {
      "text/plain": [
       "$1B      461\n",
       "$2B      246\n",
       "$3B      112\n",
       "$4B       71\n",
       "$5B       40\n",
       "$6B       26\n",
       "$7B       18\n",
       "$10B      15\n",
       "$8B       13\n",
       "$9B       10\n",
       "$12B      10\n",
       "$11B       7\n",
       "$13B       4\n",
       "$15B       4\n",
       "$100B      2\n",
       "$20B       2\n",
       "$38B       2\n",
       "$40B       2\n",
       "$17B       1\n",
       "$14B       1\n",
       "$18B       1\n",
       "$22B       1\n",
       "$25B       1\n",
       "$27B       1\n",
       "$32B       1\n",
       "$33B       1\n",
       "$39B       1\n",
       "$46B       1\n",
       "$95B       1\n",
       "$180B      1\n",
       "Name: Valuation, dtype: int64"
      ]
     },
     "execution_count": 65,
     "metadata": {},
     "output_type": "execute_result"
    }
   ],
   "source": [
    "# check non-numerical values in Valuation column \n",
    "df[\"Valuation\"].value_counts()"
   ]
  },
  {
   "cell_type": "code",
   "execution_count": 66,
   "metadata": {},
   "outputs": [],
   "source": [
    " # Dropping rows with \"Unknown\" in Funding column\n",
    "\n",
    "df = df[df[\"Funding\"] != \"Unknown\"]"
   ]
  },
  {
   "cell_type": "code",
   "execution_count": 67,
   "metadata": {},
   "outputs": [
    {
     "data": {
      "text/plain": [
       "$1B      59\n",
       "$2B      29\n",
       "$200M    12\n",
       "$4B       9\n",
       "$3B       7\n",
       "         ..\n",
       "$536M     1\n",
       "$19M      1\n",
       "$946M     1\n",
       "$180M     1\n",
       "$620M     1\n",
       "Name: Funding, Length: 532, dtype: int64"
      ]
     },
     "execution_count": 67,
     "metadata": {},
     "output_type": "execute_result"
    }
   ],
   "source": [
    "df[\"Funding\"].value_counts()"
   ]
  },
  {
   "cell_type": "code",
   "execution_count": 68,
   "metadata": {},
   "outputs": [
    {
     "data": {
      "text/plain": [
       "Fintech                                20.669856\n",
       "Internet software & services           19.234450\n",
       "E-commerce & direct-to-consumer        10.047847\n",
       "Health                                  7.081340\n",
       "Artificial intelligence                 6.794258\n",
       "Other                                   5.358852\n",
       "Supply chain, logistics, & delivery     5.263158\n",
       "Cybersecurity                           4.784689\n",
       "Data management & analytics             3.827751\n",
       "Mobile & telecommunications             3.349282\n",
       "Hardware                                3.253589\n",
       "Auto & transportation                   2.966507\n",
       "Edtech                                  2.679426\n",
       "Consumer & retail                       2.296651\n",
       "Travel                                  1.339713\n",
       "Artificial Intelligence                 1.052632\n",
       "Name: Industry, dtype: float64"
      ]
     },
     "execution_count": 68,
     "metadata": {},
     "output_type": "execute_result"
    }
   ],
   "source": [
    "df[\"Industry\"].value_counts(normalize=True)*100"
   ]
  },
  {
   "cell_type": "code",
   "execution_count": 69,
   "metadata": {},
   "outputs": [
    {
     "data": {
      "text/plain": [
       "San Francisco    14.545455\n",
       "New York          9.760766\n",
       "Beijing           5.933014\n",
       "Shanghai          4.019139\n",
       "London            3.253589\n",
       "                   ...    \n",
       "Lysaker           0.095694\n",
       "Richmond          0.095694\n",
       "Santa Barbara     0.095694\n",
       "Altrincham        0.095694\n",
       "Milpitas          0.095694\n",
       "Name: City, Length: 253, dtype: float64"
      ]
     },
     "execution_count": 69,
     "metadata": {},
     "output_type": "execute_result"
    }
   ],
   "source": [
    "df[\"City\"].value_counts(normalize=True)*100\n"
   ]
  },
  {
   "cell_type": "code",
   "execution_count": 70,
   "metadata": {},
   "outputs": [
    {
     "data": {
      "text/plain": [
       "United States           53.110048\n",
       "China                   16.172249\n",
       "India                    6.220096\n",
       "United Kingdom           4.114833\n",
       "Germany                  2.488038\n",
       "France                   2.200957\n",
       "Israel                   1.913876\n",
       "Canada                   1.722488\n",
       "Brazil                   1.531100\n",
       "South Korea              1.148325\n",
       "Australia                0.765550\n",
       "Mexico                   0.574163\n",
       "Netherlands              0.574163\n",
       "Indonesia                0.574163\n",
       "Sweden                   0.574163\n",
       "Switzerland              0.478469\n",
       "Japan                    0.478469\n",
       "Ireland                  0.478469\n",
       "Norway                   0.382775\n",
       "Finland                  0.382775\n",
       "Spain                    0.287081\n",
       "Belgium                  0.287081\n",
       "Turkey                   0.287081\n",
       "United Arab Emirates     0.287081\n",
       "Hong Kong                0.287081\n",
       "Thailand                 0.191388\n",
       "Chile                    0.191388\n",
       "Philippines              0.191388\n",
       "Estonia                  0.191388\n",
       "South Africa             0.191388\n",
       "Vietnam                  0.191388\n",
       "Austria                  0.191388\n",
       "Colombia                 0.191388\n",
       "Denmark                  0.191388\n",
       "Argentina                0.095694\n",
       "Bermuda                  0.095694\n",
       "Malaysia                 0.095694\n",
       "Senegal                  0.095694\n",
       "Lithuania                0.095694\n",
       "Luxembourg               0.095694\n",
       "Nigeria                  0.095694\n",
       "Czech Republic           0.095694\n",
       "Croatia                  0.095694\n",
       "Italy                    0.095694\n",
       "Name: Country, dtype: float64"
      ]
     },
     "execution_count": 70,
     "metadata": {},
     "output_type": "execute_result"
    }
   ],
   "source": [
    "df[\"Country\"].value_counts(normalize=True)*100\n"
   ]
  },
  {
   "cell_type": "code",
   "execution_count": 71,
   "metadata": {},
   "outputs": [
    {
     "data": {
      "text/plain": [
       "Bolt            2\n",
       "Bytedance       1\n",
       "Yotpo           1\n",
       "Koudai          1\n",
       "Panther Labs    1\n",
       "               ..\n",
       "Carzone         1\n",
       "CFGI            1\n",
       "Cgtz            1\n",
       "Changingedu     1\n",
       "Zwift           1\n",
       "Name: Company, Length: 1044, dtype: int64"
      ]
     },
     "execution_count": 71,
     "metadata": {},
     "output_type": "execute_result"
    }
   ],
   "source": [
    "df[\"Company\"].value_counts()\n"
   ]
  },
  {
   "cell_type": "code",
   "execution_count": 72,
   "metadata": {},
   "outputs": [
    {
     "data": {
      "text/html": [
       "<div>\n",
       "<style scoped>\n",
       "    .dataframe tbody tr th:only-of-type {\n",
       "        vertical-align: middle;\n",
       "    }\n",
       "\n",
       "    .dataframe tbody tr th {\n",
       "        vertical-align: top;\n",
       "    }\n",
       "\n",
       "    .dataframe thead th {\n",
       "        text-align: right;\n",
       "    }\n",
       "</style>\n",
       "<table border=\"1\" class=\"dataframe\">\n",
       "  <thead>\n",
       "    <tr style=\"text-align: right;\">\n",
       "      <th></th>\n",
       "      <th>Company</th>\n",
       "      <th>Valuation</th>\n",
       "      <th>Date Joined</th>\n",
       "      <th>Industry</th>\n",
       "      <th>City</th>\n",
       "      <th>Country</th>\n",
       "      <th>Continent</th>\n",
       "      <th>Year Founded</th>\n",
       "      <th>Funding</th>\n",
       "      <th>Select Investors</th>\n",
       "    </tr>\n",
       "  </thead>\n",
       "  <tbody>\n",
       "    <tr>\n",
       "      <th>40</th>\n",
       "      <td>Bolt</td>\n",
       "      <td>$11B</td>\n",
       "      <td>2018-05-29</td>\n",
       "      <td>Auto &amp; transportation</td>\n",
       "      <td>Tallinn</td>\n",
       "      <td>Estonia</td>\n",
       "      <td>Europe</td>\n",
       "      <td>2013</td>\n",
       "      <td>$1B</td>\n",
       "      <td>Didi Chuxing, Diamler, TMT Investments</td>\n",
       "    </tr>\n",
       "    <tr>\n",
       "      <th>44</th>\n",
       "      <td>Bolt</td>\n",
       "      <td>$11B</td>\n",
       "      <td>2021-10-08</td>\n",
       "      <td>Fintech</td>\n",
       "      <td>San Francisco</td>\n",
       "      <td>United States</td>\n",
       "      <td>North America</td>\n",
       "      <td>2014</td>\n",
       "      <td>$1B</td>\n",
       "      <td>Activant Capital, Tribe Capital, General Atlantic</td>\n",
       "    </tr>\n",
       "  </tbody>\n",
       "</table>\n",
       "</div>"
      ],
      "text/plain": [
       "   Company Valuation Date Joined               Industry           City  \\\n",
       "40    Bolt      $11B  2018-05-29  Auto & transportation        Tallinn   \n",
       "44    Bolt      $11B  2021-10-08                Fintech  San Francisco   \n",
       "\n",
       "          Country      Continent  Year Founded Funding  \\\n",
       "40        Estonia         Europe          2013     $1B   \n",
       "44  United States  North America          2014     $1B   \n",
       "\n",
       "                                     Select Investors  \n",
       "40             Didi Chuxing, Diamler, TMT Investments  \n",
       "44  Activant Capital, Tribe Capital, General Atlantic  "
      ]
     },
     "execution_count": 72,
     "metadata": {},
     "output_type": "execute_result"
    }
   ],
   "source": [
    "# Seeing the duplicate company\n",
    "df[df[\"Company\"] == \"Bolt\"]\n"
   ]
  },
  {
   "cell_type": "code",
   "execution_count": 73,
   "metadata": {},
   "outputs": [
    {
     "data": {
      "text/plain": [
       "2015    14.354067\n",
       "2016    10.430622\n",
       "2014    10.239234\n",
       "2012     8.899522\n",
       "2013     8.038278\n",
       "2011     7.751196\n",
       "2017     6.985646\n",
       "2018     5.645933\n",
       "2019     4.019139\n",
       "2010     3.636364\n",
       "2009     3.253589\n",
       "2008     2.583732\n",
       "2007     2.200957\n",
       "2020     2.200957\n",
       "2006     1.435407\n",
       "2005     1.339713\n",
       "2021     1.052632\n",
       "2000     1.052632\n",
       "1999     0.765550\n",
       "2004     0.765550\n",
       "2001     0.669856\n",
       "2003     0.669856\n",
       "1998     0.478469\n",
       "2002     0.287081\n",
       "1995     0.191388\n",
       "1994     0.191388\n",
       "1991     0.095694\n",
       "1993     0.095694\n",
       "1984     0.095694\n",
       "1990     0.095694\n",
       "1996     0.095694\n",
       "1992     0.095694\n",
       "1979     0.095694\n",
       "1919     0.095694\n",
       "1997     0.095694\n",
       "Name: Year Founded, dtype: float64"
      ]
     },
     "execution_count": 73,
     "metadata": {},
     "output_type": "execute_result"
    }
   ],
   "source": [
    "df['Year Founded'].value_counts(normalize=True)*100\n"
   ]
  },
  {
   "cell_type": "code",
   "execution_count": 74,
   "metadata": {},
   "outputs": [
    {
     "data": {
      "text/plain": [
       "Two Sigma Ventures, Flint Capital, Commerce Ventures                                     0.191388\n",
       "Greylock Partners, Google Ventures, BlackRock                                            0.191388\n",
       "General Atlantic                                                                         0.191388\n",
       "Sequoia Capital                                                                          0.191388\n",
       "Qualcomm Ventures, Accel, Canaan Partners                                                0.191388\n",
       "                                                                                           ...   \n",
       "Guozhong Venture Capital Management, Shenzhen Capital Group, Oriental Fortune Capital    0.095694\n",
       "DeFi Technologies, Hypersphere Ventures, M13                                             0.095694\n",
       "Octopus Ventures, Munich Re Ventures, CommerzVentures                                    0.095694\n",
       "Alibaba Group,Co-Stone Venture Capital, Buhuo Venture Capital                            0.095694\n",
       "Novator Partners, True, Causeway Media Partners                                          0.095694\n",
       "Name: Select Investors, Length: 1031, dtype: float64"
      ]
     },
     "execution_count": 74,
     "metadata": {},
     "output_type": "execute_result"
    }
   ],
   "source": [
    "df['Select Investors'].value_counts(normalize=True)*100\n"
   ]
  },
  {
   "cell_type": "code",
   "execution_count": 75,
   "metadata": {},
   "outputs": [],
   "source": [
    "# Replace intelligence with Intelligence in Industry column\n",
    "\n",
    "df.Industry = df.Industry.str.replace(\"intelligence\", \"Intelligence\")"
   ]
  },
  {
   "cell_type": "code",
   "execution_count": 76,
   "metadata": {},
   "outputs": [],
   "source": [
    "# Replace the duplicated company names\n",
    "df.loc[40,\"Company\"] = 'Bolt (Estonia)'\n",
    "df.loc[44,\"Company\"] = 'Bolt (United States)'"
   ]
  },
  {
   "cell_type": "code",
   "execution_count": 77,
   "metadata": {},
   "outputs": [],
   "source": [
    "df = df.head(5)\n"
   ]
  },
  {
   "cell_type": "code",
   "execution_count": 78,
   "metadata": {},
   "outputs": [
    {
     "data": {
      "image/png": "[encoded data removed]",
      "text/plain": [
       "<Figure size 640x480 with 1 Axes>"
      ]
     },
     "metadata": {},
     "output_type": "display_data"
    }
   ],
   "source": [
    "# Create the bar chart\n",
    "plt.barh(df['Company'], df['Valuation'], color='pink')\n",
    "\n",
    "\n",
    "plt.title('Top 10 Companies by Valuation')\n",
    "plt.xlabel('Company')\n",
    "plt.ylabel('Valuation')\n",
    "\n",
    "\n",
    "plt.show()"
   ]
  }
 ],
 "metadata": {
  "kernelspec": {
   "display_name": "Python 3",
   "language": "python",
   "name": "python3"
  },
  "language_info": {
   "codemirror_mode": {
    "name": "ipython",
    "version": 3
   },
   "file_extension": ".py",
   "mimetype": "text/x-python",
   "name": "python",
   "nbconvert_exporter": "python",
   "pygments_lexer": "ipython3",
   "version": "3.10.10"
  },
  "orig_nbformat": 4
 },
 "nbformat": 4,
 "nbformat_minor": 2
}
